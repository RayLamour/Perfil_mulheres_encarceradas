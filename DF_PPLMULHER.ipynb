{
  "nbformat": 4,
  "nbformat_minor": 0,
  "metadata": {
    "colab": {
      "provenance": [],
      "collapsed_sections": [
        "E2n1H69u8IHL",
        "GLua-2CG85CF",
        "JD67_-6W9r0u",
        "gdy8IGv--MGt",
        "_-tIZ55FBjiR",
        "wtniyxBGKXHj",
        "DPOn7S7PLrWQ",
        "wO0WFoFvL0Fw",
        "OfDHV7dNng3R"
      ]
    },
    "kernelspec": {
      "name": "python3",
      "display_name": "Python 3"
    },
    "language_info": {
      "name": "python"
    }
  },
  "cells": [
    {
      "cell_type": "markdown",
      "source": [
        "# Análise de Dados de Mulheres Privadas de Liberdade\n",
        "\n",
        "Este notebook analisa dados de uma unidade prisional feminina, buscando compreender os perfis das mulheres encarceradas, com foco em fatores como idade, cor, escolaridade, maternidade e vínculos familiares."
      ],
      "metadata": {
        "id": "9JpbUleb5V7S"
      }
    },
    {
      "cell_type": "markdown",
      "source": [
        "##Importando as bibliotecas\n",
        "\n",
        "Pandas (pd): Para carregar, limpar e manipular seus dados.\n",
        "\n",
        "NumPy (np): Funciona por baixo do Pandas e para operações numéricas de baixo nível.\n",
        "\n",
        "Matplotlib (plt): Para criar gráficos básicos e personalizar detalhes.\n",
        "\n",
        "Seaborn (sns): Para criar gráficos estatísticos mais complexos e esteticamente agradáveis, muitas vezes usando os DataFrames do Pandas.\n"
      ],
      "metadata": {
        "id": "Id5LTjJXk7oR"
      }
    },
    {
      "cell_type": "code",
      "execution_count": null,
      "metadata": {
        "id": "aAu4BafnrkpK"
      },
      "outputs": [],
      "source": [
        "## Importando as bibliotecas\n",
        "\n",
        "import pandas as pd\n",
        "import numpy as np\n",
        "import matplotlib.pyplot as plt\n",
        "import seaborn as sns"
      ]
    },
    {
      "cell_type": "markdown",
      "source": [
        "##Importando do MYDRIVE\n",
        "Nesta etapa, carregamos o conjunto de dados original e fazemos uma primeira inspeção para entender sua estrutura."
      ],
      "metadata": {
        "id": "GLua-2CG85CF"
      }
    },
    {
      "cell_type": "code",
      "source": [
        "##importando do MYDRIVE\n",
        "from google.colab import drive\n",
        "drive.mount('/content/drive')"
      ],
      "metadata": {
        "colab": {
          "base_uri": "https://localhost:8080/"
        },
        "id": "MYDXj7N06IlF",
        "outputId": "5e69312b-8780-43c7-9d1f-f8a7ee7c980c"
      },
      "execution_count": null,
      "outputs": [
        {
          "output_type": "stream",
          "name": "stdout",
          "text": [
            "Mounted at /content/drive\n"
          ]
        }
      ]
    },
    {
      "cell_type": "code",
      "source": [
        "##Lendoo a a basa de dados que será usada\n",
        "df_PPL = pd.read_csv('/content/drive/MyDrive/BD_PPLs_Mulher.csv')"
      ],
      "metadata": {
        "id": "93KUc3Ua6YiP"
      },
      "execution_count": null,
      "outputs": []
    },
    {
      "cell_type": "markdown",
      "source": [
        "## Qualidade da Base de Dados\n",
        "\n",
        "Antes de iniciar qualquer análise, é importante avaliar a qualidade dos dados. Aqui, vamos:\n",
        "- Verificar valores ausentes\n",
        "- Identificar linhas duplicadas\n",
        "- Documentar essas ocorrências para justificar futuras limpezas"
      ],
      "metadata": {
        "id": "JD67_-6W9r0u"
      }
    },
    {
      "cell_type": "code",
      "source": [
        "# analise inicial da base de dados\n",
        "\n",
        "## Verificando a base antes da limpeza\n",
        "\n",
        "print(\" Informações iniciais do dataframe:\")\n",
        "print(df_PPL.info())\n",
        "print(\"\\n Total de valores nulos por coluna:\")\n",
        "print(df_PPL.isnull().sum())\n",
        "print(\"\\n Total de linhas duplicadas:\")\n",
        "print(df_PPL.duplicated().sum())\n",
        "print(\"\\n Dimensões da base antes da limpeza:\")\n",
        "print(f\"{df_PPL.shape[0]} linhas e {df_PPL.shape[1]} colunas\")\n",
        "\n",
        "## verificar se existe valores faltantes por colunas\n",
        "print(df_PPL.isnull())\n",
        "\n",
        "## resumo informações dados\n",
        "df_PPL.info()"
      ],
      "metadata": {
        "id": "Lhfzd0CCO_Eq",
        "colab": {
          "base_uri": "https://localhost:8080/"
        },
        "outputId": "b1a71569-d3ba-434f-961b-f3f79b0a59ad"
      },
      "execution_count": null,
      "outputs": [
        {
          "output_type": "stream",
          "name": "stdout",
          "text": [
            " Informações iniciais do dataframe:\n",
            "<class 'pandas.core.frame.DataFrame'>\n",
            "RangeIndex: 395 entries, 0 to 394\n",
            "Data columns (total 12 columns):\n",
            " #   Column        Non-Null Count  Dtype  \n",
            "---  ------        --------------  -----  \n",
            " 0   Unnamed: 0    395 non-null    int64  \n",
            " 1   NASCIM        395 non-null    object \n",
            " 2   Ano Nasc.     395 non-null    int64  \n",
            " 3   idade         395 non-null    int64  \n",
            " 4   PAVILHÃO      395 non-null    object \n",
            " 5   REGIME        395 non-null    object \n",
            " 6   FILHOS        389 non-null    float64\n",
            " 7   COR           395 non-null    object \n",
            " 8   OPCÃO SEXUAL  395 non-null    object \n",
            " 9   ESTADO CIVIL  395 non-null    object \n",
            " 10  ESCOLARIDADE  395 non-null    object \n",
            " 11  PAI           395 non-null    object \n",
            "dtypes: float64(1), int64(3), object(8)\n",
            "memory usage: 37.2+ KB\n",
            "None\n",
            "\n",
            " Total de valores nulos por coluna:\n",
            "Unnamed: 0      0\n",
            "NASCIM          0\n",
            "Ano Nasc.       0\n",
            "idade           0\n",
            "PAVILHÃO        0\n",
            "REGIME          0\n",
            "FILHOS          6\n",
            "COR             0\n",
            "OPCÃO SEXUAL    0\n",
            "ESTADO CIVIL    0\n",
            "ESCOLARIDADE    0\n",
            "PAI             0\n",
            "dtype: int64\n",
            "\n",
            " Total de linhas duplicadas:\n",
            "0\n",
            "\n",
            " Dimensões da base antes da limpeza:\n",
            "395 linhas e 12 colunas\n",
            "     Unnamed: 0  NASCIM  Ano Nasc.  idade  PAVILHÃO  REGIME  FILHOS    COR  \\\n",
            "0         False   False      False  False     False   False   False  False   \n",
            "1         False   False      False  False     False   False   False  False   \n",
            "2         False   False      False  False     False   False   False  False   \n",
            "3         False   False      False  False     False   False   False  False   \n",
            "4         False   False      False  False     False   False   False  False   \n",
            "..          ...     ...        ...    ...       ...     ...     ...    ...   \n",
            "390       False   False      False  False     False   False   False  False   \n",
            "391       False   False      False  False     False   False   False  False   \n",
            "392       False   False      False  False     False   False   False  False   \n",
            "393       False   False      False  False     False   False   False  False   \n",
            "394       False   False      False  False     False   False   False  False   \n",
            "\n",
            "     OPCÃO SEXUAL  ESTADO CIVIL  ESCOLARIDADE    PAI  \n",
            "0           False         False         False  False  \n",
            "1           False         False         False  False  \n",
            "2           False         False         False  False  \n",
            "3           False         False         False  False  \n",
            "4           False         False         False  False  \n",
            "..            ...           ...           ...    ...  \n",
            "390         False         False         False  False  \n",
            "391         False         False         False  False  \n",
            "392         False         False         False  False  \n",
            "393         False         False         False  False  \n",
            "394         False         False         False  False  \n",
            "\n",
            "[395 rows x 12 columns]\n",
            "<class 'pandas.core.frame.DataFrame'>\n",
            "RangeIndex: 395 entries, 0 to 394\n",
            "Data columns (total 12 columns):\n",
            " #   Column        Non-Null Count  Dtype  \n",
            "---  ------        --------------  -----  \n",
            " 0   Unnamed: 0    395 non-null    int64  \n",
            " 1   NASCIM        395 non-null    object \n",
            " 2   Ano Nasc.     395 non-null    int64  \n",
            " 3   idade         395 non-null    int64  \n",
            " 4   PAVILHÃO      395 non-null    object \n",
            " 5   REGIME        395 non-null    object \n",
            " 6   FILHOS        389 non-null    float64\n",
            " 7   COR           395 non-null    object \n",
            " 8   OPCÃO SEXUAL  395 non-null    object \n",
            " 9   ESTADO CIVIL  395 non-null    object \n",
            " 10  ESCOLARIDADE  395 non-null    object \n",
            " 11  PAI           395 non-null    object \n",
            "dtypes: float64(1), int64(3), object(8)\n",
            "memory usage: 37.2+ KB\n"
          ]
        }
      ]
    },
    {
      "cell_type": "code",
      "source": [
        "## Mostrando dados tratados\n",
        "df_PPL.head()"
      ],
      "metadata": {
        "id": "8s5Ht_fa4Bnu",
        "colab": {
          "base_uri": "https://localhost:8080/"
        },
        "outputId": "934db1eb-14ad-4395-9120-4c9bf8740fc3"
      },
      "execution_count": null,
      "outputs": [
        {
          "output_type": "execute_result",
          "data": {
            "text/plain": [
              "   Unnamed: 0      NASCIM  Ano Nasc.  idade PAVILHÃO      REGIME  FILHOS  \\\n",
              "0           2  17/04/1990       1990     33        B     FECHADO     2.0   \n",
              "1           3  09/01/1998       1998     25     HARM  SEMIABERTO     0.0   \n",
              "2           4  08/08/1972       1972     51      DOM  SEMIABERTO     3.0   \n",
              "3           5  01/05/1976       1976     47        B     FECHADO     2.0   \n",
              "4           7  26/07/1984       1984     39        A  SEMIABERTO     4.0   \n",
              "\n",
              "      COR   OPCÃO SEXUAL ESTADO CIVIL            ESCOLARIDADE  PAI  \n",
              "0   PARDA    HOMOSSEXUAL       CASADA        MEDIO INCOMPLETO  SIM  \n",
              "1   PARDA    HOMOSSEXUAL     SOLTEIRA                   MEDIO  SIM  \n",
              "2   NEGRA  HETEROSSEXUAL     SOLTEIRA  FUNDAMENTAL INCOMPLETO  SIM  \n",
              "3   PARDA  HETEROSSEXUAL     SOLTEIRA  FUNDAMENTAL INCOMPLETO  SIM  \n",
              "4  BRANCA  HETEROSSEXUAL     SOLTEIRA  FUNDAMENTAL INCOMPLETO  NÃO  "
            ],
            "text/html": [
              "\n",
              "  <div id=\"df-e7d78291-089e-488c-a224-54bbb80659ed\" class=\"colab-df-container\">\n",
              "    <div>\n",
              "<style scoped>\n",
              "    .dataframe tbody tr th:only-of-type {\n",
              "        vertical-align: middle;\n",
              "    }\n",
              "\n",
              "    .dataframe tbody tr th {\n",
              "        vertical-align: top;\n",
              "    }\n",
              "\n",
              "    .dataframe thead th {\n",
              "        text-align: right;\n",
              "    }\n",
              "</style>\n",
              "<table border=\"1\" class=\"dataframe\">\n",
              "  <thead>\n",
              "    <tr style=\"text-align: right;\">\n",
              "      <th></th>\n",
              "      <th>Unnamed: 0</th>\n",
              "      <th>NASCIM</th>\n",
              "      <th>Ano Nasc.</th>\n",
              "      <th>idade</th>\n",
              "      <th>PAVILHÃO</th>\n",
              "      <th>REGIME</th>\n",
              "      <th>FILHOS</th>\n",
              "      <th>COR</th>\n",
              "      <th>OPCÃO SEXUAL</th>\n",
              "      <th>ESTADO CIVIL</th>\n",
              "      <th>ESCOLARIDADE</th>\n",
              "      <th>PAI</th>\n",
              "    </tr>\n",
              "  </thead>\n",
              "  <tbody>\n",
              "    <tr>\n",
              "      <th>0</th>\n",
              "      <td>2</td>\n",
              "      <td>17/04/1990</td>\n",
              "      <td>1990</td>\n",
              "      <td>33</td>\n",
              "      <td>B</td>\n",
              "      <td>FECHADO</td>\n",
              "      <td>2.0</td>\n",
              "      <td>PARDA</td>\n",
              "      <td>HOMOSSEXUAL</td>\n",
              "      <td>CASADA</td>\n",
              "      <td>MEDIO INCOMPLETO</td>\n",
              "      <td>SIM</td>\n",
              "    </tr>\n",
              "    <tr>\n",
              "      <th>1</th>\n",
              "      <td>3</td>\n",
              "      <td>09/01/1998</td>\n",
              "      <td>1998</td>\n",
              "      <td>25</td>\n",
              "      <td>HARM</td>\n",
              "      <td>SEMIABERTO</td>\n",
              "      <td>0.0</td>\n",
              "      <td>PARDA</td>\n",
              "      <td>HOMOSSEXUAL</td>\n",
              "      <td>SOLTEIRA</td>\n",
              "      <td>MEDIO</td>\n",
              "      <td>SIM</td>\n",
              "    </tr>\n",
              "    <tr>\n",
              "      <th>2</th>\n",
              "      <td>4</td>\n",
              "      <td>08/08/1972</td>\n",
              "      <td>1972</td>\n",
              "      <td>51</td>\n",
              "      <td>DOM</td>\n",
              "      <td>SEMIABERTO</td>\n",
              "      <td>3.0</td>\n",
              "      <td>NEGRA</td>\n",
              "      <td>HETEROSSEXUAL</td>\n",
              "      <td>SOLTEIRA</td>\n",
              "      <td>FUNDAMENTAL INCOMPLETO</td>\n",
              "      <td>SIM</td>\n",
              "    </tr>\n",
              "    <tr>\n",
              "      <th>3</th>\n",
              "      <td>5</td>\n",
              "      <td>01/05/1976</td>\n",
              "      <td>1976</td>\n",
              "      <td>47</td>\n",
              "      <td>B</td>\n",
              "      <td>FECHADO</td>\n",
              "      <td>2.0</td>\n",
              "      <td>PARDA</td>\n",
              "      <td>HETEROSSEXUAL</td>\n",
              "      <td>SOLTEIRA</td>\n",
              "      <td>FUNDAMENTAL INCOMPLETO</td>\n",
              "      <td>SIM</td>\n",
              "    </tr>\n",
              "    <tr>\n",
              "      <th>4</th>\n",
              "      <td>7</td>\n",
              "      <td>26/07/1984</td>\n",
              "      <td>1984</td>\n",
              "      <td>39</td>\n",
              "      <td>A</td>\n",
              "      <td>SEMIABERTO</td>\n",
              "      <td>4.0</td>\n",
              "      <td>BRANCA</td>\n",
              "      <td>HETEROSSEXUAL</td>\n",
              "      <td>SOLTEIRA</td>\n",
              "      <td>FUNDAMENTAL INCOMPLETO</td>\n",
              "      <td>NÃO</td>\n",
              "    </tr>\n",
              "  </tbody>\n",
              "</table>\n",
              "</div>\n",
              "    <div class=\"colab-df-buttons\">\n",
              "\n",
              "  <div class=\"colab-df-container\">\n",
              "    <button class=\"colab-df-convert\" onclick=\"convertToInteractive('df-e7d78291-089e-488c-a224-54bbb80659ed')\"\n",
              "            title=\"Convert this dataframe to an interactive table.\"\n",
              "            style=\"display:none;\">\n",
              "\n",
              "  <svg xmlns=\"http://www.w3.org/2000/svg\" height=\"24px\" viewBox=\"0 -960 960 960\">\n",
              "    <path d=\"M120-120v-720h720v720H120Zm60-500h600v-160H180v160Zm220 220h160v-160H400v160Zm0 220h160v-160H400v160ZM180-400h160v-160H180v160Zm440 0h160v-160H620v160ZM180-180h160v-160H180v160Zm440 0h160v-160H620v160Z\"/>\n",
              "  </svg>\n",
              "    </button>\n",
              "\n",
              "  <style>\n",
              "    .colab-df-container {\n",
              "      display:flex;\n",
              "      gap: 12px;\n",
              "    }\n",
              "\n",
              "    .colab-df-convert {\n",
              "      background-color: #E8F0FE;\n",
              "      border: none;\n",
              "      border-radius: 50%;\n",
              "      cursor: pointer;\n",
              "      display: none;\n",
              "      fill: #1967D2;\n",
              "      height: 32px;\n",
              "      padding: 0 0 0 0;\n",
              "      width: 32px;\n",
              "    }\n",
              "\n",
              "    .colab-df-convert:hover {\n",
              "      background-color: #E2EBFA;\n",
              "      box-shadow: 0px 1px 2px rgba(60, 64, 67, 0.3), 0px 1px 3px 1px rgba(60, 64, 67, 0.15);\n",
              "      fill: #174EA6;\n",
              "    }\n",
              "\n",
              "    .colab-df-buttons div {\n",
              "      margin-bottom: 4px;\n",
              "    }\n",
              "\n",
              "    [theme=dark] .colab-df-convert {\n",
              "      background-color: #3B4455;\n",
              "      fill: #D2E3FC;\n",
              "    }\n",
              "\n",
              "    [theme=dark] .colab-df-convert:hover {\n",
              "      background-color: #434B5C;\n",
              "      box-shadow: 0px 1px 3px 1px rgba(0, 0, 0, 0.15);\n",
              "      filter: drop-shadow(0px 1px 2px rgba(0, 0, 0, 0.3));\n",
              "      fill: #FFFFFF;\n",
              "    }\n",
              "  </style>\n",
              "\n",
              "    <script>\n",
              "      const buttonEl =\n",
              "        document.querySelector('#df-e7d78291-089e-488c-a224-54bbb80659ed button.colab-df-convert');\n",
              "      buttonEl.style.display =\n",
              "        google.colab.kernel.accessAllowed ? 'block' : 'none';\n",
              "\n",
              "      async function convertToInteractive(key) {\n",
              "        const element = document.querySelector('#df-e7d78291-089e-488c-a224-54bbb80659ed');\n",
              "        const dataTable =\n",
              "          await google.colab.kernel.invokeFunction('convertToInteractive',\n",
              "                                                    [key], {});\n",
              "        if (!dataTable) return;\n",
              "\n",
              "        const docLinkHtml = 'Like what you see? Visit the ' +\n",
              "          '<a target=\"_blank\" href=https://colab.research.google.com/notebooks/data_table.ipynb>data table notebook</a>'\n",
              "          + ' to learn more about interactive tables.';\n",
              "        element.innerHTML = '';\n",
              "        dataTable['output_type'] = 'display_data';\n",
              "        await google.colab.output.renderOutput(dataTable, element);\n",
              "        const docLink = document.createElement('div');\n",
              "        docLink.innerHTML = docLinkHtml;\n",
              "        element.appendChild(docLink);\n",
              "      }\n",
              "    </script>\n",
              "  </div>\n",
              "\n",
              "\n",
              "    <div id=\"df-fd083de0-c5ff-4806-a7de-c1ed844a0d2c\">\n",
              "      <button class=\"colab-df-quickchart\" onclick=\"quickchart('df-fd083de0-c5ff-4806-a7de-c1ed844a0d2c')\"\n",
              "                title=\"Suggest charts\"\n",
              "                style=\"display:none;\">\n",
              "\n",
              "<svg xmlns=\"http://www.w3.org/2000/svg\" height=\"24px\"viewBox=\"0 0 24 24\"\n",
              "     width=\"24px\">\n",
              "    <g>\n",
              "        <path d=\"M19 3H5c-1.1 0-2 .9-2 2v14c0 1.1.9 2 2 2h14c1.1 0 2-.9 2-2V5c0-1.1-.9-2-2-2zM9 17H7v-7h2v7zm4 0h-2V7h2v10zm4 0h-2v-4h2v4z\"/>\n",
              "    </g>\n",
              "</svg>\n",
              "      </button>\n",
              "\n",
              "<style>\n",
              "  .colab-df-quickchart {\n",
              "      --bg-color: #E8F0FE;\n",
              "      --fill-color: #1967D2;\n",
              "      --hover-bg-color: #E2EBFA;\n",
              "      --hover-fill-color: #174EA6;\n",
              "      --disabled-fill-color: #AAA;\n",
              "      --disabled-bg-color: #DDD;\n",
              "  }\n",
              "\n",
              "  [theme=dark] .colab-df-quickchart {\n",
              "      --bg-color: #3B4455;\n",
              "      --fill-color: #D2E3FC;\n",
              "      --hover-bg-color: #434B5C;\n",
              "      --hover-fill-color: #FFFFFF;\n",
              "      --disabled-bg-color: #3B4455;\n",
              "      --disabled-fill-color: #666;\n",
              "  }\n",
              "\n",
              "  .colab-df-quickchart {\n",
              "    background-color: var(--bg-color);\n",
              "    border: none;\n",
              "    border-radius: 50%;\n",
              "    cursor: pointer;\n",
              "    display: none;\n",
              "    fill: var(--fill-color);\n",
              "    height: 32px;\n",
              "    padding: 0;\n",
              "    width: 32px;\n",
              "  }\n",
              "\n",
              "  .colab-df-quickchart:hover {\n",
              "    background-color: var(--hover-bg-color);\n",
              "    box-shadow: 0 1px 2px rgba(60, 64, 67, 0.3), 0 1px 3px 1px rgba(60, 64, 67, 0.15);\n",
              "    fill: var(--button-hover-fill-color);\n",
              "  }\n",
              "\n",
              "  .colab-df-quickchart-complete:disabled,\n",
              "  .colab-df-quickchart-complete:disabled:hover {\n",
              "    background-color: var(--disabled-bg-color);\n",
              "    fill: var(--disabled-fill-color);\n",
              "    box-shadow: none;\n",
              "  }\n",
              "\n",
              "  .colab-df-spinner {\n",
              "    border: 2px solid var(--fill-color);\n",
              "    border-color: transparent;\n",
              "    border-bottom-color: var(--fill-color);\n",
              "    animation:\n",
              "      spin 1s steps(1) infinite;\n",
              "  }\n",
              "\n",
              "  @keyframes spin {\n",
              "    0% {\n",
              "      border-color: transparent;\n",
              "      border-bottom-color: var(--fill-color);\n",
              "      border-left-color: var(--fill-color);\n",
              "    }\n",
              "    20% {\n",
              "      border-color: transparent;\n",
              "      border-left-color: var(--fill-color);\n",
              "      border-top-color: var(--fill-color);\n",
              "    }\n",
              "    30% {\n",
              "      border-color: transparent;\n",
              "      border-left-color: var(--fill-color);\n",
              "      border-top-color: var(--fill-color);\n",
              "      border-right-color: var(--fill-color);\n",
              "    }\n",
              "    40% {\n",
              "      border-color: transparent;\n",
              "      border-right-color: var(--fill-color);\n",
              "      border-top-color: var(--fill-color);\n",
              "    }\n",
              "    60% {\n",
              "      border-color: transparent;\n",
              "      border-right-color: var(--fill-color);\n",
              "    }\n",
              "    80% {\n",
              "      border-color: transparent;\n",
              "      border-right-color: var(--fill-color);\n",
              "      border-bottom-color: var(--fill-color);\n",
              "    }\n",
              "    90% {\n",
              "      border-color: transparent;\n",
              "      border-bottom-color: var(--fill-color);\n",
              "    }\n",
              "  }\n",
              "</style>\n",
              "\n",
              "      <script>\n",
              "        async function quickchart(key) {\n",
              "          const quickchartButtonEl =\n",
              "            document.querySelector('#' + key + ' button');\n",
              "          quickchartButtonEl.disabled = true;  // To prevent multiple clicks.\n",
              "          quickchartButtonEl.classList.add('colab-df-spinner');\n",
              "          try {\n",
              "            const charts = await google.colab.kernel.invokeFunction(\n",
              "                'suggestCharts', [key], {});\n",
              "          } catch (error) {\n",
              "            console.error('Error during call to suggestCharts:', error);\n",
              "          }\n",
              "          quickchartButtonEl.classList.remove('colab-df-spinner');\n",
              "          quickchartButtonEl.classList.add('colab-df-quickchart-complete');\n",
              "        }\n",
              "        (() => {\n",
              "          let quickchartButtonEl =\n",
              "            document.querySelector('#df-fd083de0-c5ff-4806-a7de-c1ed844a0d2c button');\n",
              "          quickchartButtonEl.style.display =\n",
              "            google.colab.kernel.accessAllowed ? 'block' : 'none';\n",
              "        })();\n",
              "      </script>\n",
              "    </div>\n",
              "\n",
              "    </div>\n",
              "  </div>\n"
            ],
            "application/vnd.google.colaboratory.intrinsic+json": {
              "type": "dataframe",
              "variable_name": "df_PPL",
              "summary": "{\n  \"name\": \"df_PPL\",\n  \"rows\": 395,\n  \"fields\": [\n    {\n      \"column\": \"Unnamed: 0\",\n      \"properties\": {\n        \"dtype\": \"number\",\n        \"std\": 117,\n        \"min\": 2,\n        \"max\": 406,\n        \"num_unique_values\": 395,\n        \"samples\": [\n          81,\n          382,\n          255\n        ],\n        \"semantic_type\": \"\",\n        \"description\": \"\"\n      }\n    },\n    {\n      \"column\": \"NASCIM\",\n      \"properties\": {\n        \"dtype\": \"object\",\n        \"num_unique_values\": 388,\n        \"samples\": [\n          \"08/12/1983\",\n          \"25/03/1982\",\n          \"09/08/1990\"\n        ],\n        \"semantic_type\": \"\",\n        \"description\": \"\"\n      }\n    },\n    {\n      \"column\": \"Ano Nasc.\",\n      \"properties\": {\n        \"dtype\": \"number\",\n        \"std\": 10,\n        \"min\": 1944,\n        \"max\": 2000,\n        \"num_unique_values\": 49,\n        \"samples\": [\n          1988,\n          1957,\n          1967\n        ],\n        \"semantic_type\": \"\",\n        \"description\": \"\"\n      }\n    },\n    {\n      \"column\": \"idade\",\n      \"properties\": {\n        \"dtype\": \"number\",\n        \"std\": 10,\n        \"min\": 23,\n        \"max\": 79,\n        \"num_unique_values\": 49,\n        \"samples\": [\n          35,\n          66,\n          56\n        ],\n        \"semantic_type\": \"\",\n        \"description\": \"\"\n      }\n    },\n    {\n      \"column\": \"PAVILH\\u00c3O\",\n      \"properties\": {\n        \"dtype\": \"category\",\n        \"num_unique_values\": 7,\n        \"samples\": [\n          \"B\",\n          \"HARM\",\n          \"EVASAO\"\n        ],\n        \"semantic_type\": \"\",\n        \"description\": \"\"\n      }\n    },\n    {\n      \"column\": \"REGIME\",\n      \"properties\": {\n        \"dtype\": \"category\",\n        \"num_unique_values\": 4,\n        \"samples\": [\n          \"SEMIABERTO\",\n          \"SUMARIADA\",\n          \"FECHADO\"\n        ],\n        \"semantic_type\": \"\",\n        \"description\": \"\"\n      }\n    },\n    {\n      \"column\": \"FILHOS\",\n      \"properties\": {\n        \"dtype\": \"number\",\n        \"std\": 1.835747240929128,\n        \"min\": 0.0,\n        \"max\": 11.0,\n        \"num_unique_values\": 12,\n        \"samples\": [\n          10.0,\n          5.0,\n          2.0\n        ],\n        \"semantic_type\": \"\",\n        \"description\": \"\"\n      }\n    },\n    {\n      \"column\": \"COR\",\n      \"properties\": {\n        \"dtype\": \"category\",\n        \"num_unique_values\": 3,\n        \"samples\": [\n          \"PARDA\",\n          \"NEGRA\",\n          \"BRANCA\"\n        ],\n        \"semantic_type\": \"\",\n        \"description\": \"\"\n      }\n    },\n    {\n      \"column\": \"OPC\\u00c3O SEXUAL\",\n      \"properties\": {\n        \"dtype\": \"category\",\n        \"num_unique_values\": 4,\n        \"samples\": [\n          \"HETEROSSEXUAL\",\n          \"N\\u00c3O QUIS INFORMAR\",\n          \"HOMOSSEXUAL\"\n        ],\n        \"semantic_type\": \"\",\n        \"description\": \"\"\n      }\n    },\n    {\n      \"column\": \"ESTADO CIVIL\",\n      \"properties\": {\n        \"dtype\": \"category\",\n        \"num_unique_values\": 6,\n        \"samples\": [\n          \"CASADA\",\n          \"SOLTEIRA\",\n          \"VIUVA\"\n        ],\n        \"semantic_type\": \"\",\n        \"description\": \"\"\n      }\n    },\n    {\n      \"column\": \"ESCOLARIDADE\",\n      \"properties\": {\n        \"dtype\": \"category\",\n        \"num_unique_values\": 10,\n        \"samples\": [\n          \"N\\u00c3O INFORMADO\",\n          \"MEDIO\",\n          \"FUNDAMENTAL\"\n        ],\n        \"semantic_type\": \"\",\n        \"description\": \"\"\n      }\n    },\n    {\n      \"column\": \"PAI\",\n      \"properties\": {\n        \"dtype\": \"category\",\n        \"num_unique_values\": 2,\n        \"samples\": [\n          \"N\\u00c3O\",\n          \"SIM\"\n        ],\n        \"semantic_type\": \"\",\n        \"description\": \"\"\n      }\n    }\n  ]\n}"
            }
          },
          "metadata": {},
          "execution_count": 6
        }
      ]
    },
    {
      "cell_type": "code",
      "source": [
        "## Converter a coluna 'FILHOS' para inteiros\n",
        "df_PPL['FILHOS'] = df_PPL['FILHOS'].astype('Int64')\n"
      ],
      "metadata": {
        "id": "_HVBNMaEC97h"
      },
      "execution_count": null,
      "outputs": []
    },
    {
      "cell_type": "markdown",
      "source": [
        "## Tratamento de Outliers\n",
        "\n",
        "Focamos na variável **idade**, identificando possíveis valores extremos com ajuda de boxplots e medidas estatísticas.\n"
      ],
      "metadata": {
        "id": "gdy8IGv--MGt"
      }
    },
    {
      "cell_type": "code",
      "source": [
        "## Analisano os outliers\n",
        "\n",
        "## Cálculo do IQR\n",
        "q1 = df_PPL['idade'].quantile(0.25)\n",
        "q3 = df_PPL['idade'].quantile(0.75)\n",
        "iqr = q3 - q1\n",
        "\n",
        "## Limites para identificar outliers\n",
        "limite_inferior = q1 - 1.5 * iqr\n",
        "limite_superior = q3 + 1.5 * iqr\n",
        "\n",
        "## Exibindo os limites\n",
        "print(f\"Outliers abaixo de {limite_inferior} ou acima de {limite_superior}\")\n",
        "\n",
        "## Identificando as presas com idade considerada outlier\n",
        "outliers_idade = df_PPL[(df_PPL['idade'] < limite_inferior) | (df_PPL['idade'] > limite_superior)]\n",
        "print(f\"\\nQuantidade de presas com idade fora do intervalo interquartil: {outliers_idade.shape[0]}\")\n",
        "print(outliers_idade[['idade']])\n",
        "\n"
      ],
      "metadata": {
        "colab": {
          "base_uri": "https://localhost:8080/"
        },
        "id": "QG49yP-iZgPW",
        "outputId": "1df39699-c301-4acc-939c-01f10800cdd5"
      },
      "execution_count": null,
      "outputs": [
        {
          "output_type": "stream",
          "name": "stdout",
          "text": [
            "Outliers abaixo de 11.5 ou acima de 63.5\n",
            "\n",
            "Quantidade de presas com idade fora do intervalo interquartil: 15\n",
            "     idade\n",
            "16      74\n",
            "54      73\n",
            "66      67\n",
            "122     73\n",
            "144     68\n",
            "145     64\n",
            "158     73\n",
            "233     78\n",
            "239     68\n",
            "256     79\n",
            "264     65\n",
            "269     66\n",
            "270     67\n",
            "280     65\n",
            "384     66\n"
          ]
        }
      ]
    },
    {
      "cell_type": "markdown",
      "source": [],
      "metadata": {
        "id": "ucjVHN9QAtJK"
      }
    },
    {
      "cell_type": "code",
      "source": [
        "## Mostrar quantidade de presas por idade\n",
        "quant_por_idade = df_PPL['idade'].value_counts().sort_index()\n",
        "print(\"Quantidade de presas por idade:\")\n",
        "print(quant_por_idade)\n",
        "\n",
        "## Calcular média de idade\n",
        "media_idade = df_PPL['idade'].mean()\n",
        "print(f\"\\n Média de idade das mulheres presas: {int(media_idade)} anos\")\n",
        "\n"
      ],
      "metadata": {
        "id": "SmMgMfmKI4ow",
        "colab": {
          "base_uri": "https://localhost:8080/"
        },
        "outputId": "17d998f8-15be-4162-809c-8ffdd55155be"
      },
      "execution_count": null,
      "outputs": [
        {
          "output_type": "stream",
          "name": "stdout",
          "text": [
            "Quantidade de presas por idade:\n",
            "idade\n",
            "23     2\n",
            "24     4\n",
            "25    12\n",
            "26    10\n",
            "27    20\n",
            "28    18\n",
            "29    13\n",
            "30    16\n",
            "31    11\n",
            "32    15\n",
            "33    18\n",
            "34    14\n",
            "35    17\n",
            "36    13\n",
            "37    14\n",
            "38    14\n",
            "39    18\n",
            "40    14\n",
            "41    17\n",
            "42    16\n",
            "43     7\n",
            "44    14\n",
            "45     8\n",
            "46     8\n",
            "47     6\n",
            "48    10\n",
            "49     4\n",
            "50     8\n",
            "51     5\n",
            "52     2\n",
            "53     7\n",
            "54     2\n",
            "55     6\n",
            "56     2\n",
            "57     3\n",
            "58     4\n",
            "59     1\n",
            "60     3\n",
            "61     2\n",
            "62     2\n",
            "64     1\n",
            "65     2\n",
            "66     2\n",
            "67     2\n",
            "68     2\n",
            "73     3\n",
            "74     1\n",
            "78     1\n",
            "79     1\n",
            "Name: count, dtype: int64\n",
            "\n",
            " Média de idade das mulheres presas: 39 anos\n"
          ]
        }
      ]
    },
    {
      "cell_type": "markdown",
      "source": [
        "Apesar de o método estatístico indicar valores extremos, optei por não eliminar esses dados, pois sabemos que há mulheres mais velhas de fato encarceradas — inclusive com mais de 70 anos. Essas informações são importantes para refletir sobre o perfil etário e possíveis vulnerabilidades dessa população."
      ],
      "metadata": {
        "id": "GCUExhNBNwNh"
      }
    },
    {
      "cell_type": "markdown",
      "source": [
        "## 5. Análises Univariadas\n",
        "\n",
        "Nesta seção, analisamos individualmente as variáveis mais relevantes da base de dados para compreender o perfil sociodemográfico das mulheres privadas de liberdade.\n",
        "\n",
        "As variáveis exploradas incluem:\n",
        "\n",
        "- **Idade:** para observar a distribuição etária.\n",
        "- **Cor/raça:** importante para investigar desigualdades raciais.\n",
        "- **Presença de pai declarado na certidão:** dado que pode indicar vínculos familiares frágeis.\n",
        "- **Escolaridade:** fator-chave na compreensão de vulnerabilidades sociais.\n",
        "- **Número de filhos:** relacionado à carga de cuidado e maternidade no cárcere.\n",
        "\n",
        "As análises a seguir apresentam a frequência de cada variável, o que permite identificar padrões relevantes para etapas posteriores (como cruzamentos e interpretações mais profundas).\n"
      ],
      "metadata": {
        "id": "_-tIZ55FBjiR"
      }
    },
    {
      "cell_type": "code",
      "source": [
        "## Contar quantidade por cor\n",
        "presas_por_cor = df_PPL['COR'].value_counts()\n",
        "print(presas_por_cor)"
      ],
      "metadata": {
        "id": "O4uc7PKHPu4s",
        "colab": {
          "base_uri": "https://localhost:8080/"
        },
        "outputId": "f311f521-94fb-48be-b85e-407d72256489"
      },
      "execution_count": null,
      "outputs": [
        {
          "output_type": "stream",
          "name": "stdout",
          "text": [
            "COR\n",
            "PARDA     259\n",
            "BRANCA     69\n",
            "NEGRA      67\n",
            "Name: count, dtype: int64\n"
          ]
        }
      ]
    },
    {
      "cell_type": "code",
      "source": [
        "## quantidade de presas por estado civil\n",
        "presas_por_estado_civil = df_PPL['ESTADO CIVIL'].value_counts()\n",
        "print(presas_por_estado_civil)"
      ],
      "metadata": {
        "id": "0L8m3crtQSqt",
        "colab": {
          "base_uri": "https://localhost:8080/"
        },
        "outputId": "eba2dcf6-0e05-4b75-b57d-40c0bea6db0f"
      },
      "execution_count": null,
      "outputs": [
        {
          "output_type": "stream",
          "name": "stdout",
          "text": [
            "ESTADO CIVIL\n",
            "SOLTEIRA         231\n",
            "NÃO INFORMADO     89\n",
            "UNIÃO ESTÁVEL     40\n",
            "CASADA            26\n",
            "DIVORCIADA         6\n",
            "VIUVA              3\n",
            "Name: count, dtype: int64\n"
          ]
        }
      ]
    },
    {
      "cell_type": "code",
      "source": [
        "## quantidade de presas por escolaridade\n",
        "presas_por_escolaridade = df_PPL['ESCOLARIDADE'].value_counts()\n",
        "print(presas_por_escolaridade)"
      ],
      "metadata": {
        "id": "aBQcZSNtyYIh",
        "colab": {
          "base_uri": "https://localhost:8080/"
        },
        "outputId": "97a63200-f15f-4de8-f0c9-b96b3f40b689"
      },
      "execution_count": null,
      "outputs": [
        {
          "output_type": "stream",
          "name": "stdout",
          "text": [
            "ESCOLARIDADE\n",
            "FUNDAMENTAL INCOMPLETO    131\n",
            "FUNDAMENTAL                73\n",
            "MEDIO                      58\n",
            "MEDIO INCOMPLETO           55\n",
            "ANALFABETAS                39\n",
            "ALFABETIZADAS              19\n",
            "SUPERIOR                   13\n",
            "SUPERIOR INCOMPLETO         4\n",
            "NÃO INFORMADO               2\n",
            "PÓS GRADUADA                1\n",
            "Name: count, dtype: int64\n"
          ]
        }
      ]
    },
    {
      "cell_type": "code",
      "source": [
        "## quantidade de presas com pais declarados na certidão nascimento\n",
        "presas_com_pais_declarados = df_PPL['PAI'].value_counts()\n",
        "print(presas_com_pais_declarados)\n",
        "\n",
        "presas_com_pais_declarados_percentual = df_PPL['PAI'].value_counts(normalize=True) * 100\n",
        "print(\"\\n Percentual de Pais Declarados\\n\")\n",
        "print(presas_com_pais_declarados_percentual.round(1).astype(str) + '%')"
      ],
      "metadata": {
        "id": "oFcQ3J2TzpaQ",
        "colab": {
          "base_uri": "https://localhost:8080/"
        },
        "outputId": "9bc8ddaf-afda-4bac-d903-8045018388f6"
      },
      "execution_count": null,
      "outputs": [
        {
          "output_type": "stream",
          "name": "stdout",
          "text": [
            "PAI\n",
            "SIM    327\n",
            "NÃO     68\n",
            "Name: count, dtype: int64\n",
            "\n",
            " Percentual de Pais Declarados\n",
            "\n",
            "PAI\n",
            "SIM    82.8%\n",
            "NÃO    17.2%\n",
            "Name: proportion, dtype: object\n"
          ]
        }
      ]
    },
    {
      "cell_type": "code",
      "source": [
        "# Contagem da quantidade de PPLs por número de filhos\n",
        "df_PPL['FILHOS'].value_counts().sort_index()\n"
      ],
      "metadata": {
        "colab": {
          "base_uri": "https://localhost:8080/",
          "height": 491
        },
        "id": "6CUDNal_CH_R",
        "outputId": "4be990d5-c8bb-47aa-9c4e-22d6e538239c"
      },
      "execution_count": null,
      "outputs": [
        {
          "output_type": "execute_result",
          "data": {
            "text/plain": [
              "FILHOS\n",
              "0     123\n",
              "1      67\n",
              "2      78\n",
              "3      68\n",
              "4      33\n",
              "5       7\n",
              "6       3\n",
              "7       3\n",
              "8       2\n",
              "9       2\n",
              "10      2\n",
              "11      1\n",
              "Name: count, dtype: Int64"
            ],
            "text/html": [
              "<div>\n",
              "<style scoped>\n",
              "    .dataframe tbody tr th:only-of-type {\n",
              "        vertical-align: middle;\n",
              "    }\n",
              "\n",
              "    .dataframe tbody tr th {\n",
              "        vertical-align: top;\n",
              "    }\n",
              "\n",
              "    .dataframe thead th {\n",
              "        text-align: right;\n",
              "    }\n",
              "</style>\n",
              "<table border=\"1\" class=\"dataframe\">\n",
              "  <thead>\n",
              "    <tr style=\"text-align: right;\">\n",
              "      <th></th>\n",
              "      <th>count</th>\n",
              "    </tr>\n",
              "    <tr>\n",
              "      <th>FILHOS</th>\n",
              "      <th></th>\n",
              "    </tr>\n",
              "  </thead>\n",
              "  <tbody>\n",
              "    <tr>\n",
              "      <th>0</th>\n",
              "      <td>123</td>\n",
              "    </tr>\n",
              "    <tr>\n",
              "      <th>1</th>\n",
              "      <td>67</td>\n",
              "    </tr>\n",
              "    <tr>\n",
              "      <th>2</th>\n",
              "      <td>78</td>\n",
              "    </tr>\n",
              "    <tr>\n",
              "      <th>3</th>\n",
              "      <td>68</td>\n",
              "    </tr>\n",
              "    <tr>\n",
              "      <th>4</th>\n",
              "      <td>33</td>\n",
              "    </tr>\n",
              "    <tr>\n",
              "      <th>5</th>\n",
              "      <td>7</td>\n",
              "    </tr>\n",
              "    <tr>\n",
              "      <th>6</th>\n",
              "      <td>3</td>\n",
              "    </tr>\n",
              "    <tr>\n",
              "      <th>7</th>\n",
              "      <td>3</td>\n",
              "    </tr>\n",
              "    <tr>\n",
              "      <th>8</th>\n",
              "      <td>2</td>\n",
              "    </tr>\n",
              "    <tr>\n",
              "      <th>9</th>\n",
              "      <td>2</td>\n",
              "    </tr>\n",
              "    <tr>\n",
              "      <th>10</th>\n",
              "      <td>2</td>\n",
              "    </tr>\n",
              "    <tr>\n",
              "      <th>11</th>\n",
              "      <td>1</td>\n",
              "    </tr>\n",
              "  </tbody>\n",
              "</table>\n",
              "</div><br><label><b>dtype:</b> Int64</label>"
            ]
          },
          "metadata": {},
          "execution_count": 14
        }
      ]
    },
    {
      "cell_type": "markdown",
      "source": [
        "## Análises Bivariadas\n",
        "\n",
        "Agora vamos investigar relações entre variáveis, como:\n",
        "\n",
        "- **Escolaridade × Cor**\n",
        "- **Escolaridade × Pai declarado**\n",
        "- **Filhas que são mães × Pai declarado**\n",
        "- **Escolaridade × Estado Civil**\n",
        "\n",
        "Estas análises ajudam a identificar padrões sociais que podem estar relacionados à trajetória dessas mulheres.\n"
      ],
      "metadata": {
        "id": "wtniyxBGKXHj"
      }
    },
    {
      "cell_type": "markdown",
      "source": [
        "### Escolaridade × Cor\n",
        "\n",
        "Esta análise cruza os níveis de escolaridade com a variável de cor/raça. O objetivo é observar se mulheres negras (pretas e pardas) apresentam padrões diferentes de escolaridade em comparação às brancas.\n",
        "\n",
        "Gráficos como esse ajudam a identificar possíveis desigualdades raciais no acesso à educação, refletindo vulnerabilidades sociais anteriores ao encarceramento.\n"
      ],
      "metadata": {
        "id": "DPOn7S7PLrWQ"
      }
    },
    {
      "cell_type": "code",
      "source": [
        "tabela_ec = pd.crosstab(df_PPL['ESCOLARIDADE'], df_PPL['COR'])\n",
        "print(tabela_ec)\n",
        "\n",
        "tabela_ec.plot(kind='bar', stacked=True, figsize=(10,6), colormap='viridis')\n",
        "plt.title('Escolaridade por Cor')\n",
        "plt.xlabel('Escolaridade')\n",
        "plt.ylabel('Número de PPLs')\n",
        "plt.legend(title='Cor')\n",
        "plt.tight_layout()\n",
        "plt.show()\n"
      ],
      "metadata": {
        "colab": {
          "base_uri": "https://localhost:8080/",
          "height": 211
        },
        "id": "afvJ9lezK5hc",
        "outputId": "40e26a35-0807-4854-d1c3-b94340697b8d"
      },
      "execution_count": null,
      "outputs": [
        {
          "output_type": "error",
          "ename": "NameError",
          "evalue": "name 'pd' is not defined",
          "traceback": [
            "\u001b[0;31m---------------------------------------------------------------------------\u001b[0m",
            "\u001b[0;31mNameError\u001b[0m                                 Traceback (most recent call last)",
            "\u001b[0;32m/tmp/ipython-input-1-3818648757.py\u001b[0m in \u001b[0;36m<cell line: 0>\u001b[0;34m()\u001b[0m\n\u001b[0;32m----> 1\u001b[0;31m \u001b[0mtabela_ec\u001b[0m \u001b[0;34m=\u001b[0m \u001b[0mpd\u001b[0m\u001b[0;34m.\u001b[0m\u001b[0mcrosstab\u001b[0m\u001b[0;34m(\u001b[0m\u001b[0mdf_PPL\u001b[0m\u001b[0;34m[\u001b[0m\u001b[0;34m'ESCOLARIDADE'\u001b[0m\u001b[0;34m]\u001b[0m\u001b[0;34m,\u001b[0m \u001b[0mdf_PPL\u001b[0m\u001b[0;34m[\u001b[0m\u001b[0;34m'COR'\u001b[0m\u001b[0;34m]\u001b[0m\u001b[0;34m)\u001b[0m\u001b[0;34m\u001b[0m\u001b[0;34m\u001b[0m\u001b[0m\n\u001b[0m\u001b[1;32m      2\u001b[0m \u001b[0mprint\u001b[0m\u001b[0;34m(\u001b[0m\u001b[0mtabela_ec\u001b[0m\u001b[0;34m)\u001b[0m\u001b[0;34m\u001b[0m\u001b[0;34m\u001b[0m\u001b[0m\n\u001b[1;32m      3\u001b[0m \u001b[0;34m\u001b[0m\u001b[0m\n\u001b[1;32m      4\u001b[0m \u001b[0mtabela_ec\u001b[0m\u001b[0;34m.\u001b[0m\u001b[0mplot\u001b[0m\u001b[0;34m(\u001b[0m\u001b[0mkind\u001b[0m\u001b[0;34m=\u001b[0m\u001b[0;34m'bar'\u001b[0m\u001b[0;34m,\u001b[0m \u001b[0mstacked\u001b[0m\u001b[0;34m=\u001b[0m\u001b[0;32mTrue\u001b[0m\u001b[0;34m,\u001b[0m \u001b[0mfigsize\u001b[0m\u001b[0;34m=\u001b[0m\u001b[0;34m(\u001b[0m\u001b[0;36m10\u001b[0m\u001b[0;34m,\u001b[0m\u001b[0;36m6\u001b[0m\u001b[0;34m)\u001b[0m\u001b[0;34m,\u001b[0m \u001b[0mcolormap\u001b[0m\u001b[0;34m=\u001b[0m\u001b[0;34m'viridis'\u001b[0m\u001b[0;34m)\u001b[0m\u001b[0;34m\u001b[0m\u001b[0;34m\u001b[0m\u001b[0m\n\u001b[1;32m      5\u001b[0m \u001b[0mplt\u001b[0m\u001b[0;34m.\u001b[0m\u001b[0mtitle\u001b[0m\u001b[0;34m(\u001b[0m\u001b[0;34m'Escolaridade por Cor'\u001b[0m\u001b[0;34m)\u001b[0m\u001b[0;34m\u001b[0m\u001b[0;34m\u001b[0m\u001b[0m\n",
            "\u001b[0;31mNameError\u001b[0m: name 'pd' is not defined"
          ]
        }
      ]
    },
    {
      "cell_type": "markdown",
      "source": [
        "### Escolaridade × Pai Declarado\n",
        "\n",
        "Este cruzamento busca identificar se a presença do pai na certidão de nascimento está associada ao nível de escolaridade das presas.\n",
        "\n",
        "A ausência paterna pode estar ligada a trajetórias de abandono escolar e falta de suporte familiar, sendo um fator de vulnerabilidade social.\n"
      ],
      "metadata": {
        "id": "wO0WFoFvL0Fw"
      }
    },
    {
      "cell_type": "code",
      "source": [
        "tabela_ep = pd.crosstab(df_PPL['ESCOLARIDADE'], df_PPL['PAI'])\n",
        "print(tabela_ep)\n",
        "\n",
        "tabela_ep.plot(kind='bar', stacked=True, figsize=(10,6), colormap='plasma')\n",
        "plt.title('Escolaridade por Presença de Pai Declarado')\n",
        "plt.xlabel('Escolaridade')\n",
        "plt.ylabel('Número de PPLs')\n",
        "plt.legend(title='Pai declarado')\n",
        "plt.tight_layout()\n",
        "plt.show()\n"
      ],
      "metadata": {
        "id": "xVkhVE6LMmBR"
      },
      "execution_count": null,
      "outputs": []
    },
    {
      "cell_type": "markdown",
      "source": [
        "### Maternidade × Pai Declarado\n",
        "\n",
        "Criamos a variável \"MÃE\" a partir da quantidade de filhos. Mulheres com 1 ou mais filhos foram classificadas como \"É MÃE\"; aquelas com 0 filhos como \"NÃO É MÃE\".\n",
        "\n",
        "Este cruzamento analisa se as presas que são mães têm maior probabilidade de não terem o nome do pai declarado na certidão. A ideia é investigar possíveis padrões de fragilidade familiar herdada entre gerações.\n",
        "\n",
        "Se a ausência paterna é comum entre mães presas, isso pode indicar a reprodução de vínculos familiares frágeis — tanto na origem quanto no destino dessas mulheres.\n",
        "\n"
      ],
      "metadata": {
        "id": "MX-14Z5hNOS9"
      }
    },
    {
      "cell_type": "code",
      "source": [
        "# Criar a coluna 'MAE' com base no número de filhos\n",
        "df_PPL['MAE'] = df_PPL['FILHOS'].apply(lambda x: 'É MÃE' if x > 0 else 'NÃO É MÃE')\n",
        "\n",
        "tabela_mp = pd.crosstab(df_PPL['MAE'], df_PPL['PAI'])\n",
        "print(tabela_mp)\n",
        "\n",
        "tabela_mp.plot(kind='bar', stacked=True, figsize=(8,5), colormap='cividis')\n",
        "plt.title('Maternidade por Presença de Pai Declarado')\n",
        "plt.xlabel('É mãe?')\n",
        "plt.ylabel('Número de PPLs')\n",
        "plt.legend(title='Pai declarado')\n",
        "plt.tight_layout()\n",
        "plt.show()\n"
      ],
      "metadata": {
        "id": "es3RMppcNTXN"
      },
      "execution_count": null,
      "outputs": []
    },
    {
      "cell_type": "markdown",
      "source": [
        "### Escolaridade × Estado Civil\n",
        "\n",
        "Este cruzamento busca explorar se há relação entre escolaridade e estado civil.\n",
        "\n",
        "Mulheres solteiras, por exemplo, podem ter tido menos apoio conjugal ou familiar durante sua trajetória, o que pode influenciar tanto na evasão escolar quanto na maior exposição a contextos de vulnerabilidade social.\n"
      ],
      "metadata": {
        "id": "XvDhTGg9Ozag"
      }
    },
    {
      "cell_type": "code",
      "source": [
        "tabela_es = pd.crosstab(df_PPL['ESCOLARIDADE'], df_PPL['ESTADO CIVIL'])\n",
        "print(tabela_es)\n",
        "\n",
        "\n",
        "tabela_es.plot(kind='bar', stacked=True, figsize=(10,6), colormap='Set2')\n",
        "plt.title('Escolaridade por Estado Civil')\n",
        "plt.xlabel('Escolaridade')\n",
        "plt.ylabel('Número de PPLs')\n",
        "plt.legend(title='Estado Civil')\n",
        "plt.tight_layout()\n",
        "plt.show()\n",
        "\n"
      ],
      "metadata": {
        "id": "UFGvouKxO7N6"
      },
      "execution_count": null,
      "outputs": []
    },
    {
      "cell_type": "markdown",
      "source": [
        "## Exportando o DF"
      ],
      "metadata": {
        "id": "OfDHV7dNng3R"
      }
    },
    {
      "cell_type": "code",
      "source": [
        "# Faixa etária no estilo tradicional\n",
        "bins = [17, 24, 34, 44, 54, 64, 100]\n",
        "labels = ['18–24', '25–34', '35–44', '45–54', '55–64', '65+']\n",
        "\n",
        "df_PPL['FAIXA_ETARIA'] = pd.cut(df_PPL['idade'], bins=bins, labels=labels)\n",
        "\n",
        "# Exportar base tratada para CSV\n",
        "# Alterado o encoding para 'utf-8' para suportar caracteres especiais como o travessão '–'\n",
        "df_PPL.to_csv('BD_PPLs_Mulher_PARA_PBI.csv', index=False, sep=';', encoding='utf-8')\n",
        "\n",
        "from google.colab import files\n",
        "files.download('BD_PPLs_Mulher_PARA_PBI.csv')\n",
        "\n"
      ],
      "metadata": {
        "colab": {
          "base_uri": "https://localhost:8080/",
          "height": 17
        },
        "id": "7jI-kL3qSU6T",
        "outputId": "c370cb2c-77dc-4ded-f68b-a160396c49c3"
      },
      "execution_count": null,
      "outputs": [
        {
          "output_type": "display_data",
          "data": {
            "text/plain": [
              "<IPython.core.display.Javascript object>"
            ],
            "application/javascript": [
              "\n",
              "    async function download(id, filename, size) {\n",
              "      if (!google.colab.kernel.accessAllowed) {\n",
              "        return;\n",
              "      }\n",
              "      const div = document.createElement('div');\n",
              "      const label = document.createElement('label');\n",
              "      label.textContent = `Downloading \"${filename}\": `;\n",
              "      div.appendChild(label);\n",
              "      const progress = document.createElement('progress');\n",
              "      progress.max = size;\n",
              "      div.appendChild(progress);\n",
              "      document.body.appendChild(div);\n",
              "\n",
              "      const buffers = [];\n",
              "      let downloaded = 0;\n",
              "\n",
              "      const channel = await google.colab.kernel.comms.open(id);\n",
              "      // Send a message to notify the kernel that we're ready.\n",
              "      channel.send({})\n",
              "\n",
              "      for await (const message of channel.messages) {\n",
              "        // Send a message to notify the kernel that we're ready.\n",
              "        channel.send({})\n",
              "        if (message.buffers) {\n",
              "          for (const buffer of message.buffers) {\n",
              "            buffers.push(buffer);\n",
              "            downloaded += buffer.byteLength;\n",
              "            progress.value = downloaded;\n",
              "          }\n",
              "        }\n",
              "      }\n",
              "      const blob = new Blob(buffers, {type: 'application/binary'});\n",
              "      const a = document.createElement('a');\n",
              "      a.href = window.URL.createObjectURL(blob);\n",
              "      a.download = filename;\n",
              "      div.appendChild(a);\n",
              "      a.click();\n",
              "      div.remove();\n",
              "    }\n",
              "  "
            ]
          },
          "metadata": {}
        },
        {
          "output_type": "display_data",
          "data": {
            "text/plain": [
              "<IPython.core.display.Javascript object>"
            ],
            "application/javascript": [
              "download(\"download_086c6243-5a56-4562-a37f-b3aa599fa8be\", \"BD_PPLs_Mulher_PARA_PBI.csv\", 41017)"
            ]
          },
          "metadata": {}
        }
      ]
    }
  ]
}